{
 "cells": [
  {
   "cell_type": "markdown",
   "id": "727e8274",
   "metadata": {},
   "source": [
    "# MNIST Dataset with CNN Project"
   ]
  },
  {
   "cell_type": "markdown",
   "id": "a565b9b0",
   "metadata": {},
   "source": [
    "This project is using [MNIST Dataset](https://www.kaggle.com/datasets/hojjatk/mnist-dataset).\n",
    "### MNIST Dataset description:\n",
    "\n",
    "> The MNIST database of handwritten digits has a training set of 60,000 examples, and a test set of 10,000 examples. .\n",
    "\n",
    "In this notebook I am going to load and explore the MNIST data, put the images into batches, define an CNN model, train the model and finally evaluate it in the following specific steps:\n",
    "\n",
    "0. Make imports\n",
    "1. Load and examine the MNIST data\n",
    "2. Define the model\n",
    "3. Train the model\n",
    "4. Evaluate the model (use test data)"
   ]
  },
  {
   "cell_type": "markdown",
   "id": "428783e3",
   "metadata": {},
   "source": [
    "## 0. Make imports"
   ]
  },
  {
   "cell_type": "code",
   "execution_count": 1,
   "id": "d9eecacf",
   "metadata": {},
   "outputs": [],
   "source": [
    "import torch\n",
    "import torch.nn as nn\n",
    "import torch.nn.functional as F\n",
    "from torch.utils.data import DataLoader\n",
    "from torchvision import datasets, transforms\n",
    "from torchvision.utils import make_grid\n",
    "\n",
    "import numpy as np\n",
    "import pandas as pd\n",
    "from sklearn.metrics import confusion_matrix\n",
    "import matplotlib.pyplot as plt\n",
    "%matplotlib inline"
   ]
  },
  {
   "cell_type": "markdown",
   "id": "0c8a89dd",
   "metadata": {},
   "source": [
    "## 1. Load and examine the MNIST data"
   ]
  },
  {
   "cell_type": "markdown",
   "id": "8e8d7d54",
   "metadata": {},
   "source": [
    "### 1.1 Define transform"
   ]
  },
  {
   "cell_type": "code",
   "execution_count": 85,
   "id": "1dc158f3",
   "metadata": {},
   "outputs": [],
   "source": [
    "# before loading the dataset I am going to define transform in order to transform images to tensors\n",
    "\n",
    "transform = transforms.ToTensor()"
   ]
  },
  {
   "cell_type": "markdown",
   "id": "acb052f0",
   "metadata": {},
   "source": [
    "### 1.2 Load the MNIST dataset"
   ]
  },
  {
   "cell_type": "code",
   "execution_count": 3,
   "id": "4eec0cf2",
   "metadata": {},
   "outputs": [
    {
     "name": "stderr",
     "output_type": "stream",
     "text": [
      "/Users/aga/opt/miniconda3/envs/pytorchenv/lib/python3.8/site-packages/torchvision/datasets/mnist.py:498: UserWarning: The given NumPy array is not writeable, and PyTorch does not support non-writeable tensors. This means you can write to the underlying (supposedly non-writeable) NumPy array using the tensor. You may want to copy the array to protect its data or make it writeable before converting it to a tensor. This type of warning will be suppressed for the rest of this program. (Triggered internally at  ../torch/csrc/utils/tensor_numpy.cpp:180.)\n",
      "  return torch.from_numpy(parsed.astype(m[2], copy=False)).view(*s)\n"
     ]
    }
   ],
   "source": [
    "train_data = datasets.MNIST(root='../Data', train=True, download=True, transform=transform)\n",
    "test_data = datasets.MNIST(root='../Data', train=False, download=True, transform=transform)"
   ]
  },
  {
   "cell_type": "code",
   "execution_count": 4,
   "id": "37566223",
   "metadata": {},
   "outputs": [
    {
     "data": {
      "text/plain": [
       "Dataset MNIST\n",
       "    Number of datapoints: 60000\n",
       "    Root location: ../Data\n",
       "    Split: Train\n",
       "    StandardTransform\n",
       "Transform: ToTensor()"
      ]
     },
     "execution_count": 4,
     "metadata": {},
     "output_type": "execute_result"
    }
   ],
   "source": [
    "train_data"
   ]
  },
  {
   "cell_type": "code",
   "execution_count": 5,
   "id": "9ccd0852",
   "metadata": {},
   "outputs": [
    {
     "data": {
      "text/plain": [
       "Dataset MNIST\n",
       "    Number of datapoints: 10000\n",
       "    Root location: ../Data\n",
       "    Split: Test\n",
       "    StandardTransform\n",
       "Transform: ToTensor()"
      ]
     },
     "execution_count": 5,
     "metadata": {},
     "output_type": "execute_result"
    }
   ],
   "source": [
    "test_data"
   ]
  },
  {
   "cell_type": "markdown",
   "id": "93584304",
   "metadata": {},
   "source": [
    "### 1.5 Put images into batches"
   ]
  },
  {
   "cell_type": "code",
   "execution_count": 56,
   "id": "cbe22687",
   "metadata": {},
   "outputs": [],
   "source": [
    "#When working with images, we want relatively small batches; a batch size of 4 is not uncommon.\n",
    "train_loader = DataLoader(train_data, batch_size=10, shuffle=True)\n",
    "test_loader = DataLoader(test_data, batch_size=10, shuffle=True)"
   ]
  },
  {
   "cell_type": "markdown",
   "id": "3292b7b6",
   "metadata": {},
   "source": [
    "### 1.6 Define a convolutional model"
   ]
  },
  {
   "cell_type": "markdown",
   "id": "4bd3fd2f",
   "metadata": {},
   "source": [
    "The model follows: **CONV/RELU/POOL/CONV/RELU/POOL/FC/RELU/FC.**"
   ]
  },
  {
   "cell_type": "code",
   "execution_count": 57,
   "id": "cec38932",
   "metadata": {},
   "outputs": [],
   "source": [
    "# Define layers\n",
    "conv1 = nn.Conv2d(1,6,3,1)\n",
    "conv2 = nn.Conv2d(6,18,3,1)"
   ]
  },
  {
   "cell_type": "code",
   "execution_count": 86,
   "id": "5cfccf2a",
   "metadata": {},
   "outputs": [],
   "source": [
    "# The first MNIST record\n",
    "for i, (X_train, y_train) in enumerate(train_data):\n",
    "    break"
   ]
  },
  {
   "cell_type": "code",
   "execution_count": 59,
   "id": "c9129c4d",
   "metadata": {},
   "outputs": [
    {
     "data": {
      "text/plain": [
       "torch.Size([1, 28, 28])"
      ]
     },
     "execution_count": 59,
     "metadata": {},
     "output_type": "execute_result"
    }
   ],
   "source": [
    "X_train.shape"
   ]
  },
  {
   "cell_type": "code",
   "execution_count": 60,
   "id": "58e987cf",
   "metadata": {},
   "outputs": [],
   "source": [
    "x = X_train.view(1,1,28,28)"
   ]
  },
  {
   "cell_type": "code",
   "execution_count": 61,
   "id": "9bb66eb0",
   "metadata": {},
   "outputs": [],
   "source": [
    "x = F.relu(conv1(x)) "
   ]
  },
  {
   "cell_type": "code",
   "execution_count": 62,
   "id": "868074c4",
   "metadata": {},
   "outputs": [
    {
     "data": {
      "text/plain": [
       "torch.Size([1, 6, 26, 26])"
      ]
     },
     "execution_count": 62,
     "metadata": {},
     "output_type": "execute_result"
    }
   ],
   "source": [
    "x.shape\n",
    "# it is 26x26, beacause while putting it through kernel 3x3 we might lose some info on the borders if our padding is 0"
   ]
  },
  {
   "cell_type": "code",
   "execution_count": 63,
   "id": "caa25672",
   "metadata": {},
   "outputs": [],
   "source": [
    "x = F.max_pool2d(x,2,2)#x,kernel_size,stride_size"
   ]
  },
  {
   "cell_type": "code",
   "execution_count": 64,
   "id": "3f98f0fb",
   "metadata": {},
   "outputs": [
    {
     "data": {
      "text/plain": [
       "torch.Size([1, 6, 13, 13])"
      ]
     },
     "execution_count": 64,
     "metadata": {},
     "output_type": "execute_result"
    }
   ],
   "source": [
    "x.shape\n",
    "#it is 13x13 because of 2x2 kernel"
   ]
  },
  {
   "cell_type": "code",
   "execution_count": 65,
   "id": "2aa654a4",
   "metadata": {},
   "outputs": [],
   "source": [
    "x = F.relu(conv2(x))"
   ]
  },
  {
   "cell_type": "code",
   "execution_count": 66,
   "id": "626d609c",
   "metadata": {},
   "outputs": [
    {
     "data": {
      "text/plain": [
       "torch.Size([1, 18, 11, 11])"
      ]
     },
     "execution_count": 66,
     "metadata": {},
     "output_type": "execute_result"
    }
   ],
   "source": [
    "x.shape"
   ]
  },
  {
   "cell_type": "code",
   "execution_count": 67,
   "id": "f0c3edbe",
   "metadata": {},
   "outputs": [],
   "source": [
    "x = F.max_pool2d(x,2,2)"
   ]
  },
  {
   "cell_type": "code",
   "execution_count": 68,
   "id": "fd7d18af",
   "metadata": {},
   "outputs": [
    {
     "data": {
      "text/plain": [
       "torch.Size([1, 18, 5, 5])"
      ]
     },
     "execution_count": 68,
     "metadata": {},
     "output_type": "execute_result"
    }
   ],
   "source": [
    "x.shape"
   ]
  },
  {
   "cell_type": "code",
   "execution_count": 87,
   "id": "c0595df0",
   "metadata": {},
   "outputs": [
    {
     "data": {
      "text/plain": [
       "torch.Size([1, 450])"
      ]
     },
     "execution_count": 87,
     "metadata": {},
     "output_type": "execute_result"
    }
   ],
   "source": [
    "# Flatten the data\n",
    "x.view(-1,18*5*5).shape"
   ]
  },
  {
   "cell_type": "markdown",
   "id": "a2a81bff",
   "metadata": {},
   "source": [
    "## 2. Define the model"
   ]
  },
  {
   "cell_type": "markdown",
   "id": "f6f599df",
   "metadata": {},
   "source": [
    "### 2.1 Define the CNN class"
   ]
  },
  {
   "cell_type": "code",
   "execution_count": 71,
   "id": "93c5c560",
   "metadata": {},
   "outputs": [],
   "source": [
    "class CNN(nn.Module):\n",
    "    \n",
    "    def __init__(self):\n",
    "        super().__init__()\n",
    "        self.conv1 = nn.Conv2d(1,6,3,1)\n",
    "        self.conv2 = nn.Conv2d(6,18,3,1)\n",
    "        self.fc1 = nn.Linear(5*5*18,120)\n",
    "        self.fc2 = nn.Linear(120,84)\n",
    "        self.fc3 = nn.Linear(84,10) # output must be 10 because of 10 classes\n",
    "        \n",
    "    def forward(self,X):\n",
    "        X = F.relu(self.conv1(X))\n",
    "        X = F.max_pool2d(X,2,2)\n",
    "        X = F.relu(self.conv2(X))\n",
    "        X = F.max_pool2d(X,2,2)\n",
    "        X = X.view(-1,18*5*5)\n",
    "        X = F.relu(self.fc1(X))\n",
    "        X = F.relu(self.fc2(X))\n",
    "        X = self.fc3(X)\n",
    "        return F.log_softmax(X,dim=1)"
   ]
  },
  {
   "cell_type": "code",
   "execution_count": 72,
   "id": "e73bfafa",
   "metadata": {},
   "outputs": [
    {
     "data": {
      "text/plain": [
       "CNN(\n",
       "  (conv1): Conv2d(1, 6, kernel_size=(3, 3), stride=(1, 1))\n",
       "  (conv2): Conv2d(6, 18, kernel_size=(3, 3), stride=(1, 1))\n",
       "  (fc1): Linear(in_features=450, out_features=120, bias=True)\n",
       "  (fc2): Linear(in_features=120, out_features=84, bias=True)\n",
       "  (fc3): Linear(in_features=84, out_features=10, bias=True)\n",
       ")"
      ]
     },
     "execution_count": 72,
     "metadata": {},
     "output_type": "execute_result"
    }
   ],
   "source": [
    "torch.manual_seed(24)\n",
    "model = CNN()\n",
    "model"
   ]
  },
  {
   "cell_type": "markdown",
   "id": "49fa44c1",
   "metadata": {},
   "source": [
    "### 2.2 Count the model parameters"
   ]
  },
  {
   "cell_type": "code",
   "execution_count": 89,
   "id": "c0db27e7",
   "metadata": {},
   "outputs": [],
   "source": [
    "def count_parameters(model):\n",
    "    params = [p.numel() for p in model.parameters() if p.requires_grad]\n",
    "    for item in params:\n",
    "        print(f'{item:>6}')\n",
    "    print(f'______\\n{sum(params):>6}')"
   ]
  },
  {
   "cell_type": "code",
   "execution_count": 90,
   "id": "8fa92b20",
   "metadata": {},
   "outputs": [
    {
     "name": "stdout",
     "output_type": "stream",
     "text": [
      "    54\n",
      "     6\n",
      "   972\n",
      "    18\n",
      " 54000\n",
      "   120\n",
      " 10080\n",
      "    84\n",
      "   840\n",
      "    10\n",
      "______\n",
      " 66184\n"
     ]
    }
   ],
   "source": [
    "count_parameters(model)"
   ]
  },
  {
   "cell_type": "markdown",
   "id": "8106d78e",
   "metadata": {},
   "source": [
    "### 2.3 Define the loss function and optimizer"
   ]
  },
  {
   "cell_type": "code",
   "execution_count": 91,
   "id": "49e0e99b",
   "metadata": {},
   "outputs": [],
   "source": [
    "loss_fun = nn.CrossEntropyLoss()\n",
    "optimizer = torch.optim.Adam(model.parameters(), lr=0.0015)"
   ]
  },
  {
   "cell_type": "markdown",
   "id": "2ad8ab22",
   "metadata": {},
   "source": [
    "## 3. Train the model"
   ]
  },
  {
   "cell_type": "markdown",
   "id": "74aab4e5",
   "metadata": {},
   "source": [
    "### 3.1 Train"
   ]
  },
  {
   "cell_type": "code",
   "execution_count": 95,
   "id": "4dd4e17e",
   "metadata": {},
   "outputs": [
    {
     "name": "stdout",
     "output_type": "stream",
     "text": [
      "epoch:  0  batch: 600 [  6000/60000]  loss: 0.00000044  accuracy:  99.250%\n",
      "epoch:  0  batch: 1200 [ 12000/60000]  loss: 0.00001744  accuracy:  99.292%\n",
      "epoch:  0  batch: 1800 [ 18000/60000]  loss: 0.00129187  accuracy:  99.267%\n",
      "epoch:  0  batch: 2400 [ 24000/60000]  loss: 0.08094945  accuracy:  99.242%\n",
      "epoch:  0  batch: 3000 [ 30000/60000]  loss: 0.00000424  accuracy:  99.233%\n",
      "epoch:  0  batch: 3600 [ 36000/60000]  loss: 0.00000523  accuracy:  99.261%\n",
      "epoch:  0  batch: 4200 [ 42000/60000]  loss: 0.00002407  accuracy:  99.257%\n",
      "epoch:  0  batch: 4800 [ 48000/60000]  loss: 0.00089778  accuracy:  99.258%\n",
      "epoch:  0  batch: 5400 [ 54000/60000]  loss: 0.00466387  accuracy:  99.248%\n",
      "epoch:  0  batch: 6000 [ 60000/60000]  loss: 0.00614653  accuracy:  99.227%\n",
      "epoch:  1  batch: 600 [  6000/60000]  loss: 0.00013806  accuracy:  99.567%\n",
      "epoch:  1  batch: 1200 [ 12000/60000]  loss: 0.00009697  accuracy:  99.450%\n",
      "epoch:  1  batch: 1800 [ 18000/60000]  loss: 0.00036842  accuracy:  99.378%\n",
      "epoch:  1  batch: 2400 [ 24000/60000]  loss: 0.00000472  accuracy:  99.392%\n",
      "epoch:  1  batch: 3000 [ 30000/60000]  loss: 0.08389852  accuracy:  99.370%\n",
      "epoch:  1  batch: 3600 [ 36000/60000]  loss: 0.00003420  accuracy:  99.353%\n",
      "epoch:  1  batch: 4200 [ 42000/60000]  loss: 0.06994550  accuracy:  99.338%\n",
      "epoch:  1  batch: 4800 [ 48000/60000]  loss: 0.00310726  accuracy:  99.329%\n",
      "epoch:  1  batch: 5400 [ 54000/60000]  loss: 0.01186284  accuracy:  99.335%\n",
      "epoch:  1  batch: 6000 [ 60000/60000]  loss: 0.00025896  accuracy:  99.318%\n",
      "epoch:  2  batch: 600 [  6000/60000]  loss: 0.00013272  accuracy:  99.600%\n",
      "epoch:  2  batch: 1200 [ 12000/60000]  loss: 0.00089498  accuracy:  99.450%\n",
      "epoch:  2  batch: 1800 [ 18000/60000]  loss: 0.00051164  accuracy:  99.350%\n",
      "epoch:  2  batch: 2400 [ 24000/60000]  loss: 0.00001949  accuracy:  99.342%\n",
      "epoch:  2  batch: 3000 [ 30000/60000]  loss: 0.00001132  accuracy:  99.383%\n",
      "epoch:  2  batch: 3600 [ 36000/60000]  loss: 0.00012031  accuracy:  99.375%\n",
      "epoch:  2  batch: 4200 [ 42000/60000]  loss: 0.00000155  accuracy:  99.345%\n",
      "epoch:  2  batch: 4800 [ 48000/60000]  loss: 0.00118603  accuracy:  99.342%\n",
      "epoch:  2  batch: 5400 [ 54000/60000]  loss: 0.04152995  accuracy:  99.359%\n",
      "epoch:  2  batch: 6000 [ 60000/60000]  loss: 0.00000477  accuracy:  99.343%\n",
      "epoch:  3  batch: 600 [  6000/60000]  loss: 0.02937017  accuracy:  99.517%\n",
      "epoch:  3  batch: 1200 [ 12000/60000]  loss: 0.00022949  accuracy:  99.433%\n",
      "epoch:  3  batch: 1800 [ 18000/60000]  loss: 0.00000379  accuracy:  99.444%\n",
      "epoch:  3  batch: 2400 [ 24000/60000]  loss: 0.00001043  accuracy:  99.458%\n",
      "epoch:  3  batch: 3000 [ 30000/60000]  loss: 0.00079125  accuracy:  99.447%\n",
      "epoch:  3  batch: 3600 [ 36000/60000]  loss: 0.00002312  accuracy:  99.414%\n",
      "epoch:  3  batch: 4200 [ 42000/60000]  loss: 0.26290077  accuracy:  99.400%\n",
      "epoch:  3  batch: 4800 [ 48000/60000]  loss: 0.00000000  accuracy:  99.406%\n",
      "epoch:  3  batch: 5400 [ 54000/60000]  loss: 0.00613575  accuracy:  99.406%\n",
      "epoch:  3  batch: 6000 [ 60000/60000]  loss: 0.36082855  accuracy:  99.397%\n",
      "epoch:  4  batch: 600 [  6000/60000]  loss: 0.05177305  accuracy:  99.500%\n",
      "epoch:  4  batch: 1200 [ 12000/60000]  loss: 0.00476389  accuracy:  99.583%\n",
      "epoch:  4  batch: 1800 [ 18000/60000]  loss: 0.00334539  accuracy:  99.567%\n",
      "epoch:  4  batch: 2400 [ 24000/60000]  loss: 0.00025836  accuracy:  99.579%\n",
      "epoch:  4  batch: 3000 [ 30000/60000]  loss: 0.26612648  accuracy:  99.503%\n",
      "epoch:  4  batch: 3600 [ 36000/60000]  loss: 0.00103148  accuracy:  99.492%\n",
      "epoch:  4  batch: 4200 [ 42000/60000]  loss: 0.00003973  accuracy:  99.479%\n",
      "epoch:  4  batch: 4800 [ 48000/60000]  loss: 0.00000200  accuracy:  99.463%\n",
      "epoch:  4  batch: 5400 [ 54000/60000]  loss: 0.00015342  accuracy:  99.472%\n",
      "epoch:  4  batch: 6000 [ 60000/60000]  loss: 0.00023422  accuracy:  99.460%\n",
      "\n",
      "Duration: 258 seconds\n"
     ]
    }
   ],
   "source": [
    "import time\n",
    "start_time = time.time()\n",
    "\n",
    "epochs = 5\n",
    "train_losses = []\n",
    "test_losses = []\n",
    "train_correct = []\n",
    "test_correct = []\n",
    "\n",
    "for i in range(epochs):\n",
    "    trn_corr = 0\n",
    "    tst_corr = 0\n",
    "    \n",
    "    # Run the training batches\n",
    "    for b, (X_train, y_train) in enumerate(train_loader):\n",
    "        b+=1\n",
    "        \n",
    "        # Apply the model\n",
    "        y_pred = model(X_train)  # we don't flatten X-train here\n",
    "        loss = criterion(y_pred, y_train)\n",
    " \n",
    "        # Tally the number of correct predictions\n",
    "        predicted = torch.max(y_pred.data, 1)[1]\n",
    "        batch_corr = (predicted == y_train).sum()\n",
    "        trn_corr += batch_corr\n",
    "        \n",
    "        # Update parameters\n",
    "        optimizer.zero_grad()\n",
    "        loss.backward()\n",
    "        optimizer.step()\n",
    "        \n",
    "        # Print interim results\n",
    "        if b%600 == 0:\n",
    "            print(f'epoch: {i:2}  batch: {b} [{10*b:6}/60000]  loss: {loss.item():10.8f}  \\\n",
    "accuracy: {trn_corr.item()*100/(10*b):7.3f}%')\n",
    "        \n",
    "    train_losses.append(loss.item())\n",
    "    train_correct.append(trn_corr.item())\n",
    "        \n",
    "    # Run the testing batches\n",
    "    with torch.no_grad():\n",
    "        for b, (X_test, y_test) in enumerate(test_loader):\n",
    "\n",
    "            # Apply the model\n",
    "            y_val = model(X_test)\n",
    "\n",
    "            # Tally the number of correct predictions\n",
    "            predicted = torch.max(y_val.data, 1)[1] \n",
    "            tst_corr += (predicted == y_test).sum()\n",
    "            \n",
    "    loss = criterion(y_val, y_test)\n",
    "    test_losses.append(loss)\n",
    "    test_correct.append(tst_corr)\n",
    "        \n",
    "print(f'\\nDuration: {time.time() - start_time:.0f} seconds') # print the time elapsed            \n"
   ]
  },
  {
   "cell_type": "markdown",
   "id": "90715b94",
   "metadata": {},
   "source": [
    "### 3.2 Plot the loss and accuracy comparisons"
   ]
  },
  {
   "cell_type": "code",
   "execution_count": 96,
   "id": "53a38aa2",
   "metadata": {},
   "outputs": [
    {
     "data": {
      "image/png": "[encoded data removed]",
      "text/plain": [
       "<Figure size 640x480 with 1 Axes>"
      ]
     },
     "metadata": {},
     "output_type": "display_data"
    }
   ],
   "source": [
    "plt.plot(train_losses, label='training loss')\n",
    "plt.plot(test_losses, label='validation loss')\n",
    "plt.title('Loss at the end of each epoch')\n",
    "plt.legend();"
   ]
  },
  {
   "cell_type": "code",
   "execution_count": 97,
   "id": "58df2745",
   "metadata": {},
   "outputs": [
    {
     "data": {
      "image/png": "[encoded data removed]",
      "text/plain": [
       "<Figure size 640x480 with 1 Axes>"
      ]
     },
     "metadata": {},
     "output_type": "display_data"
    }
   ],
   "source": [
    "plt.plot([t/600 for t in train_correct], label='training accuracy')\n",
    "plt.plot([t/100 for t in test_correct], label='validation accuracy')\n",
    "plt.title('Accuracy at the end of each epoch')\n",
    "plt.legend();"
   ]
  },
  {
   "cell_type": "markdown",
   "id": "5317dd6d",
   "metadata": {},
   "source": [
    "## 4.Evaluate the model (use test data)"
   ]
  },
  {
   "cell_type": "markdown",
   "id": "5ca84970",
   "metadata": {},
   "source": [
    "### 4.1 Show the test scores"
   ]
  },
  {
   "cell_type": "code",
   "execution_count": 98,
   "id": "05d70fa5",
   "metadata": {},
   "outputs": [],
   "source": [
    "# Extract the data all at once, not in batches\n",
    "test_load_all = DataLoader(test_data, batch_size=10000, shuffle=False)"
   ]
  },
  {
   "cell_type": "code",
   "execution_count": 99,
   "id": "034959d1",
   "metadata": {},
   "outputs": [
    {
     "name": "stdout",
     "output_type": "stream",
     "text": [
      "Test accuracy: 9879/10000 =  98.790%\n"
     ]
    }
   ],
   "source": [
    "with torch.no_grad():\n",
    "    correct = 0\n",
    "    for X_test, y_test in test_load_all:\n",
    "        y_val = model(X_test)  # we don't flatten the data this time\n",
    "        predicted = torch.max(y_val,1)[1]\n",
    "        correct += (predicted == y_test).sum()\n",
    "print(f'Test accuracy: {correct.item()}/{len(test_data)} = {correct.item()*100/(len(test_data)):7.3f}%')"
   ]
  },
  {
   "cell_type": "markdown",
   "id": "9575eb70",
   "metadata": {},
   "source": [
    "### 4.2 Display the confusion matrix"
   ]
  },
  {
   "cell_type": "code",
   "execution_count": 100,
   "id": "777cdf46",
   "metadata": {},
   "outputs": [
    {
     "name": "stdout",
     "output_type": "stream",
     "text": [
      "[[   0    1    2    3    4    5    6    7    8    9]]\n",
      "\n",
      "[[ 970    0    0    0    1    2    3    0    1    1]\n",
      " [   0 1124    0    0    0    0    2    2    0    1]\n",
      " [   3    0 1028    3    1    0    2    9    3    0]\n",
      " [   0    1    0 1003    0    7    0    2    2    2]\n",
      " [   1    1    0    0  967    0    1    2    1    6]\n",
      " [   0    3    0    2    0  876    1    0    0    4]\n",
      " [   2    4    1    0    3    2  946    0    0    0]\n",
      " [   1    1    3    1    1    1    0 1009    0    0]\n",
      " [   3    1    0    1    2    0    3    2  964    3]\n",
      " [   0    0    0    0    7    4    0    2    3  992]]\n"
     ]
    }
   ],
   "source": [
    "# print a row of values for reference\n",
    "np.set_printoptions(formatter=dict(int=lambda x: f'{x:4}'))\n",
    "print(np.arange(10).reshape(1,10))\n",
    "print()\n",
    "\n",
    "# print the confusion matrix\n",
    "print(confusion_matrix(predicted.view(-1), y_test.view(-1)))"
   ]
  },
  {
   "cell_type": "markdown",
   "id": "a575a9e6",
   "metadata": {},
   "source": [
    "### 4.3 Examine the misses"
   ]
  },
  {
   "cell_type": "code",
   "execution_count": 101,
   "id": "1dff2f86",
   "metadata": {},
   "outputs": [
    {
     "data": {
      "text/plain": [
       "121"
      ]
     },
     "execution_count": 101,
     "metadata": {},
     "output_type": "execute_result"
    }
   ],
   "source": [
    "misses = np.array([])\n",
    "for i in range(len(predicted.view(-1))):\n",
    "    if predicted[i] != y_test[i]:\n",
    "        misses = np.append(misses,i).astype('int64')\n",
    "        \n",
    "# Display the number of misses\n",
    "len(misses)"
   ]
  },
  {
   "cell_type": "code",
   "execution_count": 102,
   "id": "80360578",
   "metadata": {},
   "outputs": [
    {
     "data": {
      "text/plain": [
       "array([  92,  340,  406,  448,  449,  495,  557,  582,  619,  646])"
      ]
     },
     "execution_count": 102,
     "metadata": {},
     "output_type": "execute_result"
    }
   ],
   "source": [
    "# Display the first 10 index positions\n",
    "misses[:10]"
   ]
  },
  {
   "cell_type": "code",
   "execution_count": 103,
   "id": "d7feab0c",
   "metadata": {},
   "outputs": [],
   "source": [
    "# Set up an iterator to feed batched rows\n",
    "r = 12   # row size\n",
    "row = iter(np.array_split(misses,len(misses)//r+1))"
   ]
  },
  {
   "cell_type": "code",
   "execution_count": 104,
   "id": "e5e006b2",
   "metadata": {},
   "outputs": [
    {
     "name": "stdout",
     "output_type": "stream",
     "text": [
      "Index: [  92  340  406  448  449  495  557  582  619  646  659]\n",
      "Label: [   9    5    5    9    3    8    7    8    1    2    2]\n",
      "Guess: [   4    3    9    8    5    2    2    2    8    6    7]\n"
     ]
    },
    {
     "data": {
      "image/png": "[encoded data removed]",
      "text/plain": [
       "<Figure size 1000x400 with 1 Axes>"
      ]
     },
     "metadata": {},
     "output_type": "display_data"
    }
   ],
   "source": [
    "nextrow = next(row)\n",
    "print(\"Index:\", nextrow)\n",
    "print(\"Label:\", y_test.index_select(0,torch.tensor(nextrow)).numpy())\n",
    "print(\"Guess:\", predicted.index_select(0,torch.tensor(nextrow)).numpy())\n",
    "\n",
    "images = X_test.index_select(0,torch.tensor(nextrow))\n",
    "im = make_grid(images, nrow=r)\n",
    "plt.figure(figsize=(10,4))\n",
    "plt.imshow(np.transpose(im.numpy(), (1, 2, 0)));"
   ]
  },
  {
   "cell_type": "code",
   "execution_count": null,
   "id": "25a74e10",
   "metadata": {},
   "outputs": [],
   "source": []
  },
  {
   "cell_type": "code",
   "execution_count": null,
   "id": "c082175c",
   "metadata": {},
   "outputs": [],
   "source": []
  },
  {
   "cell_type": "code",
   "execution_count": null,
   "id": "7cb36c94",
   "metadata": {},
   "outputs": [],
   "source": []
  }
 ],
 "metadata": {
  "kernelspec": {
   "display_name": "Python 3 (ipykernel)",
   "language": "python",
   "name": "python3"
  },
  "language_info": {
   "codemirror_mode": {
    "name": "ipython",
    "version": 3
   },
   "file_extension": ".py",
   "mimetype": "text/x-python",
   "name": "python",
   "nbconvert_exporter": "python",
   "pygments_lexer": "ipython3",
   "version": "3.8.0"
  }
 },
 "nbformat": 4,
 "nbformat_minor": 5
}
